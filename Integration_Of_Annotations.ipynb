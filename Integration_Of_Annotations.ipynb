{
 "cells": [
  {
   "cell_type": "code",
   "execution_count": 15,
   "metadata": {},
   "outputs": [],
   "source": [
    "import pandas as pd\n",
    "\n",
    "dataset = pd.read_excel(\"../Dataseti/Dataseti_Filtruar.xlsx\", engine='openpyxl')\n",
    "\n",
    "newValues = []\n",
    "\n",
    "x = dataset['Annotator1'].values\n",
    "y = dataset['Annotator2'].values\n",
    "z = dataset['Annotator3'].values\n",
    " \n",
    "for i in range(0, len(x)):\n",
    "    if(x[i] == y[i] or x[i] == z[i]):\n",
    "        newValues.append(x[i])\n",
    "    elif(y[i] == x[i] or y[i] == z[i]):\n",
    "        newValues.append(y[i])\n",
    "    elif(z[i] == x[i] or z[i] == y[i]):\n",
    "        newValues.append(z[i])\n",
    "    else:\n",
    "        newValues.append(0)\n",
    "        \n",
    "dataset['Final annotation'] = newValues\n",
    "dataset.to_excel(\"../Dataseti/trainset.xlsx\", index=False) "
   ]
  }
 ],
 "metadata": {
  "kernelspec": {
   "display_name": "Python 3",
   "language": "python",
   "name": "python3"
  },
  "language_info": {
   "codemirror_mode": {
    "name": "ipython",
    "version": 3
   },
   "file_extension": ".py",
   "mimetype": "text/x-python",
   "name": "python",
   "nbconvert_exporter": "python",
   "pygments_lexer": "ipython3",
   "version": "3.7.4"
  }
 },
 "nbformat": 4,
 "nbformat_minor": 4
}
