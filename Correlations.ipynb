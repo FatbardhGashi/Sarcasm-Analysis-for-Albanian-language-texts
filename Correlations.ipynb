{
 "cells": [
  {
   "cell_type": "code",
   "execution_count": 22,
   "metadata": {},
   "outputs": [],
   "source": [
    "import pandas as pd\n",
    "import numpy as np\n",
    "from scipy.stats import pearsonr\n",
    "from scipy.stats import spearmanr\n",
    "import matplotlib.pyplot as plt\n",
    "import seaborn as sns"
   ]
  },
  {
   "cell_type": "code",
   "execution_count": 24,
   "metadata": {},
   "outputs": [],
   "source": [
    "data = pd.read_csv(\"../Dataseti/trainset.csv\")\n",
    "\n",
    "#Remove missing values.\n",
    "data = data.dropna()\n",
    "data = data.rename(columns = {'Annotator1': 'Anotuesi 1', 'Annotator2': 'Anotuesi 2', \"Annotator3\":'Anotuesi 3'}, inplace = False)\n",
    "\n",
    "anotimet = data[['Anotuesi 1', 'Anotuesi 2', 'Anotuesi 3']]"
   ]
  },
  {
   "cell_type": "markdown",
   "metadata": {},
   "source": [
    "# Pearson's Correlation"
   ]
  },
  {
   "cell_type": "markdown",
   "metadata": {},
   "source": [
    "### Vleresimi 1 vs 2\n"
   ]
  },
  {
   "cell_type": "code",
   "execution_count": 25,
   "metadata": {},
   "outputs": [
    {
     "name": "stdout",
     "output_type": "stream",
     "text": [
      "Pearson's corroleation ne mes Anotuesit 1 dhe Anotuesit 2 eshte  0.542059937130492\n"
     ]
    }
   ],
   "source": [
    "corr, _ = pearsonr(data['Anotuesi 1'],\n",
    "                   data['Anotuesi 2'])\n",
    "print(\"Pearson's corroleation ne mes Anotuesit 1 dhe Anotuesit 2 eshte \", corr)"
   ]
  },
  {
   "cell_type": "markdown",
   "metadata": {},
   "source": [
    "### Vleresimi 1 vs 3"
   ]
  },
  {
   "cell_type": "code",
   "execution_count": 26,
   "metadata": {},
   "outputs": [
    {
     "name": "stdout",
     "output_type": "stream",
     "text": [
      "Pearson's corroleation ne mes Anotuesit 1 dhe Anotuesit 3 eshte  0.501970407655291\n"
     ]
    }
   ],
   "source": [
    "corr, _ = pearsonr(data['Anotuesi 1'],\n",
    "                   data['Anotuesi 3'])\n",
    "print(\"Pearson's corroleation ne mes Anotuesit 1 dhe Anotuesit 3 eshte \", corr)"
   ]
  },
  {
   "cell_type": "markdown",
   "metadata": {},
   "source": [
    "### Vleresimi 2 vs 3\n"
   ]
  },
  {
   "cell_type": "code",
   "execution_count": 27,
   "metadata": {},
   "outputs": [
    {
     "name": "stdout",
     "output_type": "stream",
     "text": [
      "Pearson's corroleation ne mes Anotuesit 2 dhe Anotuesit 3 eshte  0.5067845353694196\n"
     ]
    }
   ],
   "source": [
    "corr, _ = pearsonr(data['Anotuesi 2'],\n",
    "                   data['Anotuesi 3'])\n",
    "print(\"Pearson's corroleation ne mes Anotuesit 2 dhe Anotuesit 3 eshte \", corr)"
   ]
  },
  {
   "cell_type": "markdown",
   "metadata": {},
   "source": [
    "# Spearman's Correlation"
   ]
  },
  {
   "cell_type": "markdown",
   "metadata": {},
   "source": [
    "### Vleresimi 1 vs 2\n"
   ]
  },
  {
   "cell_type": "code",
   "execution_count": 28,
   "metadata": {},
   "outputs": [
    {
     "name": "stdout",
     "output_type": "stream",
     "text": [
      "Spearman's corroleation ne mes Anotuesit 1 dhe Anotuesit 2 eshte  0.5420599371304918\n"
     ]
    }
   ],
   "source": [
    "corr3, _ = spearmanr(data['Anotuesi 1'],\n",
    "                     data['Anotuesi 2'])\n",
    "print(\"Spearman's corroleation ne mes Anotuesit 1 dhe Anotuesit 2 eshte \", corr3)"
   ]
  },
  {
   "cell_type": "markdown",
   "metadata": {},
   "source": [
    "### Vleresimi 1 vs 3"
   ]
  },
  {
   "cell_type": "code",
   "execution_count": 31,
   "metadata": {},
   "outputs": [
    {
     "name": "stdout",
     "output_type": "stream",
     "text": [
      "Spearman's corroleation ne mes Anotuesit 1 dhe Anotuesit 3 eshte  0.5019704076552909\n"
     ]
    }
   ],
   "source": [
    "corr3, _ = spearmanr(data['Anotuesi 1'],\n",
    "                     data['Anotuesi 3'])\n",
    "print(\"Spearman's corroleation ne mes Anotuesit 1 dhe Anotuesit 3 eshte \", corr3)"
   ]
  },
  {
   "cell_type": "markdown",
   "metadata": {},
   "source": [
    "### Vleresimi 2 vs 3"
   ]
  },
  {
   "cell_type": "code",
   "execution_count": 32,
   "metadata": {},
   "outputs": [
    {
     "name": "stdout",
     "output_type": "stream",
     "text": [
      "Spearman's corroleation ne mes Anotuesit 2 dhe Anotuesit 3 eshte  0.5067845353694195\n"
     ]
    }
   ],
   "source": [
    "corr3, _ = spearmanr(data['Anotuesi 2'],\n",
    "                     data['Anotuesi 3'])\n",
    "print(\"Spearman's corroleation ne mes Anotuesit 2 dhe Anotuesit 3 eshte \", corr3)"
   ]
  },
  {
   "cell_type": "code",
   "execution_count": 33,
   "metadata": {},
   "outputs": [
    {
     "data": {
      "text/html": [
       "<div>\n",
       "<style scoped>\n",
       "    .dataframe tbody tr th:only-of-type {\n",
       "        vertical-align: middle;\n",
       "    }\n",
       "\n",
       "    .dataframe tbody tr th {\n",
       "        vertical-align: top;\n",
       "    }\n",
       "\n",
       "    .dataframe thead th {\n",
       "        text-align: right;\n",
       "    }\n",
       "</style>\n",
       "<table border=\"1\" class=\"dataframe\">\n",
       "  <thead>\n",
       "    <tr style=\"text-align: right;\">\n",
       "      <th></th>\n",
       "      <th>Anotuesi 1</th>\n",
       "      <th>Anotuesi 2</th>\n",
       "      <th>Anotuesi 3</th>\n",
       "    </tr>\n",
       "  </thead>\n",
       "  <tbody>\n",
       "    <tr>\n",
       "      <th>Anotuesi 1</th>\n",
       "      <td>1.00000</td>\n",
       "      <td>0.542060</td>\n",
       "      <td>0.501970</td>\n",
       "    </tr>\n",
       "    <tr>\n",
       "      <th>Anotuesi 2</th>\n",
       "      <td>0.54206</td>\n",
       "      <td>1.000000</td>\n",
       "      <td>0.506785</td>\n",
       "    </tr>\n",
       "    <tr>\n",
       "      <th>Anotuesi 3</th>\n",
       "      <td>0.50197</td>\n",
       "      <td>0.506785</td>\n",
       "      <td>1.000000</td>\n",
       "    </tr>\n",
       "  </tbody>\n",
       "</table>\n",
       "</div>"
      ],
      "text/plain": [
       "            Anotuesi 1  Anotuesi 2  Anotuesi 3\n",
       "Anotuesi 1     1.00000    0.542060    0.501970\n",
       "Anotuesi 2     0.54206    1.000000    0.506785\n",
       "Anotuesi 3     0.50197    0.506785    1.000000"
      ]
     },
     "execution_count": 33,
     "metadata": {},
     "output_type": "execute_result"
    }
   ],
   "source": [
    "anotimet.corr()"
   ]
  },
  {
   "cell_type": "code",
   "execution_count": 34,
   "metadata": {},
   "outputs": [
    {
     "data": {
      "image/png": "[encoded data removed]",
      "text/plain": [
       "<Figure size 432x288 with 2 Axes>"
      ]
     },
     "metadata": {
      "needs_background": "light"
     },
     "output_type": "display_data"
    }
   ],
   "source": [
    "corrMatrix = anotimet.corr()\n",
    "sns.heatmap(corrMatrix, annot=True)\n",
    "plt.show()"
   ]
  },
  {
   "cell_type": "code",
   "execution_count": null,
   "metadata": {},
   "outputs": [],
   "source": []
  }
 ],
 "metadata": {
  "kernelspec": {
   "display_name": "Python 3",
   "language": "python",
   "name": "python3"
  },
  "language_info": {
   "codemirror_mode": {
    "name": "ipython",
    "version": 3
   },
   "file_extension": ".py",
   "mimetype": "text/x-python",
   "name": "python",
   "nbconvert_exporter": "python",
   "pygments_lexer": "ipython3",
   "version": "3.8.5"
  }
 },
 "nbformat": 4,
 "nbformat_minor": 4
}
