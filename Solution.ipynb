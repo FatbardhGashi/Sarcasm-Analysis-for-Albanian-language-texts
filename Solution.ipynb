{
 "cells": [
  {
   "cell_type": "markdown",
   "metadata": {},
   "source": [
    "## Importimi i librarive"
   ]
  },
  {
   "cell_type": "code",
   "execution_count": 1,
   "metadata": {},
   "outputs": [],
   "source": [
    "import warnings\n",
    "warnings.filterwarnings(\"ignore\")\n",
    "\n",
    "import numpy as np\n",
    "import pandas as pd\n",
    "import seaborn as sns\n",
    "\n",
    "from keras import layers\n",
    "from keras.models import Model, Sequential\n",
    "from keras.layers import Dense, Dropout, Activation\n",
    "from keras.layers import Input, Flatten, merge, Lambda, Dropout\n",
    "from keras.wrappers.scikit_learn import KerasClassifier\n",
    "from keras.layers.wrappers import TimeDistributed, Bidirectional\n",
    "from keras.utils import np_utils, to_categorical\n",
    "from keras.optimizers import Adam, RMSprop\n",
    "from keras.layers import Conv1D, MaxPooling1D, Embedding\n",
    "from keras.preprocessing.text import Tokenizer\n",
    "from keras.preprocessing.sequence import pad_sequences\n",
    "from keras.layers import Conv1D, MaxPooling1D, Embedding\n",
    "from keras.layers.normalization import BatchNormalization\n",
    "\n",
    "from sklearn.model_selection import train_test_split\n",
    "from sklearn.metrics import confusion_matrix, classification_report, accuracy_score\n",
    "from sklearn.preprocessing import LabelEncoder\n",
    "from sklearn.pipeline import Pipeline\n",
    "from sklearn.feature_extraction.text import TfidfVectorizer, CountVectorizer\n",
    "\n",
    "import matplotlib.pyplot as plt\n",
    "import itertools\n",
    "\n",
    "from nltk.tokenize import RegexpTokenizer\n",
    "\n",
    "from sklearn.utils import shuffle\n",
    "\n",
    "import re"
   ]
  },
  {
   "cell_type": "markdown",
   "metadata": {},
   "source": [
    "## Ngarkimi i datasetit dhe përcaktimi i variablës hyrëse dhe asaj dalëse (target)"
   ]
  },
  {
   "cell_type": "code",
   "execution_count": 2,
   "metadata": {},
   "outputs": [],
   "source": [
    "data = pd.read_csv(\"../Dataseti/trainset.csv\")\n",
    "\n",
    "comments = data['Comment']\n",
    "y = data['Final annotation']"
   ]
  },
  {
   "cell_type": "markdown",
   "metadata": {},
   "source": [
    "## Numri i komenteve me sarkazëm (1) dhe pa sarkazëm (0)"
   ]
  },
  {
   "cell_type": "code",
   "execution_count": 3,
   "metadata": {},
   "outputs": [
    {
     "data": {
      "text/plain": [
       "0    2432\n",
       "1    1356\n",
       "Name: Final annotation, dtype: int64"
      ]
     },
     "execution_count": 3,
     "metadata": {},
     "output_type": "execute_result"
    }
   ],
   "source": [
    "y.value_counts()"
   ]
  },
  {
   "cell_type": "markdown",
   "metadata": {},
   "source": [
    "## Parametrat hyrës"
   ]
  },
  {
   "cell_type": "code",
   "execution_count": 4,
   "metadata": {},
   "outputs": [],
   "source": [
    "MAX_SEQUENCE_LENGTH = 20  \n",
    "MAX_NB_WORDS = 10000      \n",
    "EMBEDDING_DIM = 300       "
   ]
  },
  {
   "cell_type": "markdown",
   "metadata": {},
   "source": [
    "## Procesimi i komenteve "
   ]
  },
  {
   "cell_type": "code",
   "execution_count": 5,
   "metadata": {},
   "outputs": [],
   "source": [
    "def preprocess_text(sen):\n",
    " \n",
    "    sentence = sen\n",
    "    # Remove everything except a-z, A-Z, and chars like Ë, ë, Ç, ç\n",
    "    sentence = re.sub('[^a-zA-Z0-9ËëÇç]', ' ', sentence)\n",
    " \n",
    "    # Removing multiple spaces\n",
    "    sentence = re.sub(r'\\s+', ' ', sentence)\n",
    " \n",
    "    return sentence"
   ]
  },
  {
   "cell_type": "markdown",
   "metadata": {},
   "source": [
    "## Vendosja e komenteve në një listë të vetme"
   ]
  },
  {
   "cell_type": "code",
   "execution_count": 6,
   "metadata": {},
   "outputs": [],
   "source": [
    "docs = []  ## <class 'list'>\n",
    "for sen in comments:\n",
    "    docs.append(preprocess_text(sen))"
   ]
  },
  {
   "cell_type": "markdown",
   "metadata": {},
   "source": [
    "## Shembull i krijimit të një fjalori me indeksa për çdo fjalë të fjalisë"
   ]
  },
  {
   "cell_type": "code",
   "execution_count": 7,
   "metadata": {},
   "outputs": [
    {
     "data": {
      "text/plain": [
       "{'për': 1,\n",
       " 'shumë': 2,\n",
       " 'respekte': 3,\n",
       " 'punën': 4,\n",
       " 'tuaj': 5,\n",
       " 'një': 6,\n",
       " 'falenderim': 7,\n",
       " 'i': 8,\n",
       " 'madh': 9,\n",
       " 'institutin': 10}"
      ]
     },
     "execution_count": 7,
     "metadata": {},
     "output_type": "execute_result"
    }
   ],
   "source": [
    "some_comments = [\n",
    "    \"Shumë respekte për punën tuaj!\", \n",
    "    \"Një falenderim i madh për institutin!\" \n",
    "            ] \n",
    "tokenizer = Tokenizer() \n",
    "tokenizer.fit_on_texts(some_comments) \n",
    " \n",
    "tokenizer.word_index"
   ]
  },
  {
   "cell_type": "markdown",
   "metadata": {},
   "source": [
    "## Vendojsa e indeksave të secilës fjalë në një listë"
   ]
  },
  {
   "cell_type": "code",
   "execution_count": 8,
   "metadata": {},
   "outputs": [
    {
     "data": {
      "text/plain": [
       "[[2, 3, 1, 4, 5], [6, 7, 8, 9, 1, 10]]"
      ]
     },
     "execution_count": 8,
     "metadata": {},
     "output_type": "execute_result"
    }
   ],
   "source": [
    "sequences = tokenizer.texts_to_sequences(some_comments) \n",
    "sequences"
   ]
  },
  {
   "cell_type": "markdown",
   "metadata": {},
   "source": [
    "## Vendosja e indeksave të fjalëve në një varg  2-dimensional me madhësi të njëjtë"
   ]
  },
  {
   "cell_type": "code",
   "execution_count": 9,
   "metadata": {},
   "outputs": [
    {
     "data": {
      "text/plain": [
       "array([[ 0,  0,  0,  0,  0,  0,  0,  0,  0,  0,  0,  0,  0,  0,  0,  2,\n",
       "         3,  1,  4,  5],\n",
       "       [ 0,  0,  0,  0,  0,  0,  0,  0,  0,  0,  0,  0,  0,  0,  6,  7,\n",
       "         8,  9,  1, 10]])"
      ]
     },
     "execution_count": 9,
     "metadata": {},
     "output_type": "execute_result"
    }
   ],
   "source": [
    "# convert text to sequence of tokens and pad them to ensure equal length vectors \n",
    "x = pad_sequences(sequences, maxlen=MAX_SEQUENCE_LENGTH)\n",
    "x   ## <class 'numpy.ndarray'>    shape: (2, 20)"
   ]
  },
  {
   "cell_type": "markdown",
   "metadata": {},
   "source": [
    "## Numri total i komenteve "
   ]
  },
  {
   "cell_type": "code",
   "execution_count": 10,
   "metadata": {},
   "outputs": [
    {
     "data": {
      "text/plain": [
       "3788"
      ]
     },
     "execution_count": 10,
     "metadata": {},
     "output_type": "execute_result"
    }
   ],
   "source": [
    "len(docs)"
   ]
  },
  {
   "cell_type": "markdown",
   "metadata": {},
   "source": [
    "## Enkodimi i anotimit final - \"one-hot encoding\""
   ]
  },
  {
   "cell_type": "code",
   "execution_count": 11,
   "metadata": {},
   "outputs": [
    {
     "name": "stdout",
     "output_type": "stream",
     "text": [
      "[[1. 0.]\n",
      " [1. 0.]\n",
      " [1. 0.]\n",
      " ...\n",
      " [1. 0.]\n",
      " [0. 1.]\n",
      " [1. 0.]]\n"
     ]
    }
   ],
   "source": [
    "encoder = LabelEncoder()\n",
    "\n",
    "encoder.fit(y) # encoder.fit([1, 1, 2, 6]) LabaleEncoder()\n",
    "# encoder.classes_ \n",
    "# array([1, 2, 6])\n",
    "\n",
    "encoded_y = encoder.transform(y)\n",
    "# array([0, 0, 1, 2]...)\n",
    "\n",
    "# encoder.inverse_transform([0, 0, 1, 2])\n",
    "# array([1, 1, 2, 6])\n",
    "\n",
    "# convert integers to dummy variables (i.e. one hot encoded)\n",
    "dummy_y = np_utils.to_categorical(encoded_y)\n",
    "print(dummy_y)\n",
    "# Converts a class vector(integers) to binary class matrix."
   ]
  },
  {
   "cell_type": "markdown",
   "metadata": {},
   "source": [
    "## Definimi i funksionit që tregon humbjet dhe saktësinë e modelit përmes grafikëve"
   ]
  },
  {
   "cell_type": "code",
   "execution_count": 12,
   "metadata": {},
   "outputs": [],
   "source": [
    "def plot_history(history):\n",
    "    loss_list = [s for s in history.history.keys() if 'loss' in s and 'val' not in s]\n",
    "    val_loss_list = [s for s in history.history.keys() if 'loss' in s and 'val' in s]\n",
    "    acc_list = [s for s in history.history.keys() if 'acc' in s and 'val' not in s]\n",
    "    val_acc_list = [s for s in history.history.keys() if 'acc' in s and 'val' in s]\n",
    "    \n",
    "    if len(loss_list) == 0:\n",
    "        print('Loss is missing in history')\n",
    "        return \n",
    "    \n",
    "    ## As loss always exists\n",
    "    epochs = range(1,len(history.history[loss_list[0]]) + 1) # range(1, 251) \n",
    "    \n",
    "    ## Loss\n",
    "    plt.figure(1)\n",
    "    for l in loss_list:\n",
    "        plt.plot(epochs, history.history[l], 'b', label='Training loss (' + str(str(format(history.history[l][-1],'.5f'))+')'))\n",
    "    for l in val_loss_list:\n",
    "        plt.plot(epochs, history.history[l], 'g', label='Validation loss (' + str(str(format(history.history[l][-1],'.5f'))+')'))\n",
    "    \n",
    "    plt.title('Loss')\n",
    "    plt.xlabel('Epochs')\n",
    "    plt.ylabel('Loss')\n",
    "    plt.legend()\n",
    "    \n",
    "    ## Accuracy\n",
    "    plt.figure(2)\n",
    "    for l in acc_list:\n",
    "        plt.plot(epochs, history.history[l], 'b', label='Training accuracy (' + str(format(history.history[l][-1],'.5f'))+')')\n",
    "    for l in val_acc_list:    \n",
    "        plt.plot(epochs, history.history[l], 'g', label='Validation accuracy (' + str(format(history.history[l][-1],'.5f'))+')')\n",
    "\n",
    "    plt.title('Accuracy')\n",
    "    plt.xlabel('Epochs')\n",
    "    plt.ylabel('Accuracy')\n",
    "    plt.legend()\n",
    "    plt.show()"
   ]
  },
  {
   "cell_type": "markdown",
   "metadata": {},
   "source": [
    "## Definimi i funksionit që tregon rezultatet e detajizuara për modelin e trajnuar"
   ]
  },
  {
   "cell_type": "code",
   "execution_count": 13,
   "metadata": {},
   "outputs": [],
   "source": [
    "## If binary (sigmoid output), set binary parameter to True\n",
    "def full_multiclass_report(model,\n",
    "                           x,\n",
    "                           y_true,\n",
    "                           classes,\n",
    "                           batch_size = 16,\n",
    "                           binary=False):\n",
    "\n",
    "    # 1. Transform one-hot encoded y_true into their class number\n",
    "    if not binary:\n",
    "        y_true = np.argmax(y_true,axis=1)\n",
    "    \n",
    "    # 2. Predict classes and stores in y_pred\n",
    "    y_pred = model.predict_classes(x, batch_size=batch_size)\n",
    "    \n",
    "    # 3. Print accuracy score\n",
    "    print(\"Accuracy : \"+ str(accuracy_score(y_true,y_pred)))\n",
    "    \n",
    "    print(\"\")\n",
    "    \n",
    "    # 4. Print classification report\n",
    "    print(\"Classification Report\")\n",
    "    print(classification_report(y_true,y_pred,digits=4))"
   ]
  },
  {
   "cell_type": "markdown",
   "metadata": {},
   "source": [
    "## Vendosja e indeksave të fjalëve në një varg me madhësi të njëjtë"
   ]
  },
  {
   "cell_type": "code",
   "execution_count": 14,
   "metadata": {},
   "outputs": [
    {
     "name": "stdout",
     "output_type": "stream",
     "text": [
      "U gjetën 9459 tokena unik.\n"
     ]
    },
    {
     "data": {
      "text/plain": [
       "array([[   0,    0, 2316, ..., 3584,  215,  198],\n",
       "       [   0,    0,    0, ...,  247,    7,  756],\n",
       "       [   0,    0,    0, ..., 2318, 3585, 3586],\n",
       "       ...,\n",
       "       [   0,    0,    0, ...,    3,  529, 9454],\n",
       "       [   0,    0,    0, ...,    1, 3153,  308],\n",
       "       [  10,    8,  601, ...,    8,    2, 2404]])"
      ]
     },
     "execution_count": 14,
     "metadata": {},
     "output_type": "execute_result"
    }
   ],
   "source": [
    "tokenizer = Tokenizer(nb_words=MAX_NB_WORDS, lower=True )\n",
    "\n",
    "tokenizer.fit_on_texts(docs)\n",
    "\n",
    "sequences = tokenizer.texts_to_sequences(docs)\n",
    "\n",
    "word_index = tokenizer.word_index\n",
    "\n",
    "print('U gjetën %s tokena unik.' % len(word_index))\n",
    "\n",
    "# convert text to sequence of tokens and pad them to ensure equal length vectors \n",
    "x = pad_sequences(sequences, maxlen=MAX_SEQUENCE_LENGTH)\n",
    "x"
   ]
  },
  {
   "cell_type": "markdown",
   "metadata": {},
   "source": [
    "## Ndarja e të dhënave në trajnuese dhe testuese"
   ]
  },
  {
   "cell_type": "code",
   "execution_count": 15,
   "metadata": {},
   "outputs": [],
   "source": [
    "seed = 20\n",
    " \n",
    "x_train, x_test, y_train, y_test = train_test_split(x, dummy_y, \ttrain_size=0.8, random_state=seed)\n",
    " \n",
    "x_train, x_val, y_train, y_val = train_test_split(x_train, y_train, \ttrain_size=0.7, random_state=seed)"
   ]
  },
  {
   "cell_type": "markdown",
   "metadata": {},
   "source": []
  },
  {
   "cell_type": "code",
   "execution_count": 16,
   "metadata": {},
   "outputs": [],
   "source": [
    "from numpy.random import seed\n",
    "import tensorflow as tf\n",
    "\n",
    "seed(1)\n",
    "\n",
    "tf.random.set_seed(2)"
   ]
  },
  {
   "cell_type": "markdown",
   "metadata": {},
   "source": [
    "## Përcaktimi i arkitekturës së modelit"
   ]
  },
  {
   "cell_type": "code",
   "execution_count": 17,
   "metadata": {},
   "outputs": [
    {
     "name": "stdout",
     "output_type": "stream",
     "text": [
      "Model: \"sequential\"\n",
      "_________________________________________________________________\n",
      "Layer (type)                 Output Shape              Param #   \n",
      "=================================================================\n",
      "embedding (Embedding)        (None, 20, 300)           2838000   \n",
      "_________________________________________________________________\n",
      "conv1d (Conv1D)              (None, 18, 32)            28832     \n",
      "_________________________________________________________________\n",
      "global_max_pooling1d (Global (None, 32)                0         \n",
      "_________________________________________________________________\n",
      "dense (Dense)                (None, 2)                 66        \n",
      "=================================================================\n",
      "Total params: 2,866,898\n",
      "Trainable params: 2,866,898\n",
      "Non-trainable params: 0\n",
      "_________________________________________________________________\n",
      "None\n"
     ]
    }
   ],
   "source": [
    "from keras.layers import GlobalMaxPooling1D\n",
    "\n",
    "model = Sequential()\n",
    "\n",
    "model.add(Embedding(len(word_index)+1, EMBEDDING_DIM, input_length = x.shape[1]))\n",
    "\n",
    "model.add(Conv1D(32, 3, activation='relu'))\n",
    "\n",
    "model.add(GlobalMaxPooling1D())\n",
    "\n",
    "model.add(Dense(2, activation='sigmoid'))\n",
    "\n",
    "model.compile(optimizer='adam', loss='binary_crossentropy', metrics=['acc'])\n",
    "\n",
    "print(model.summary())"
   ]
  },
  {
   "cell_type": "markdown",
   "metadata": {},
   "source": [
    "## Procesi i trajnimit të modelit"
   ]
  },
  {
   "cell_type": "code",
   "execution_count": 18,
   "metadata": {},
   "outputs": [
    {
     "name": "stdout",
     "output_type": "stream",
     "text": [
      "Epoch 1/50\n",
      "133/133 - 9s - loss: 0.6564 - acc: 0.6143 - val_loss: 0.5974 - val_acc: 0.7107\n",
      "Epoch 2/50\n",
      "133/133 - 6s - loss: 0.4799 - acc: 0.7992 - val_loss: 0.5391 - val_acc: 0.7492\n",
      "Epoch 3/50\n",
      "133/133 - 6s - loss: 0.2230 - acc: 0.9241 - val_loss: 0.6015 - val_acc: 0.7283\n",
      "Epoch 4/50\n",
      "133/133 - 6s - loss: 0.0762 - acc: 0.9797 - val_loss: 0.6734 - val_acc: 0.7382\n",
      "Epoch 5/50\n",
      "133/133 - 6s - loss: 0.0339 - acc: 0.9906 - val_loss: 0.7469 - val_acc: 0.7305\n",
      "Epoch 6/50\n",
      "133/133 - 6s - loss: 0.0195 - acc: 0.9934 - val_loss: 0.8059 - val_acc: 0.7393\n",
      "Epoch 7/50\n",
      "133/133 - 6s - loss: 0.0149 - acc: 0.9934 - val_loss: 0.8503 - val_acc: 0.7338\n",
      "Epoch 8/50\n",
      "133/133 - 6s - loss: 0.0122 - acc: 0.9948 - val_loss: 0.9009 - val_acc: 0.7283\n",
      "Epoch 9/50\n",
      "133/133 - 6s - loss: 0.0112 - acc: 0.9953 - val_loss: 0.9270 - val_acc: 0.7415\n",
      "Epoch 10/50\n",
      "133/133 - 6s - loss: 0.0110 - acc: 0.9939 - val_loss: 0.9556 - val_acc: 0.7349\n",
      "Epoch 11/50\n",
      "133/133 - 6s - loss: 0.0080 - acc: 0.9962 - val_loss: 0.9933 - val_acc: 0.7437\n",
      "Epoch 12/50\n",
      "133/133 - 6s - loss: 0.0079 - acc: 0.9953 - val_loss: 1.0150 - val_acc: 0.7404\n",
      "Epoch 13/50\n",
      "133/133 - 6s - loss: 0.0081 - acc: 0.9953 - val_loss: 1.0383 - val_acc: 0.7360\n",
      "Epoch 14/50\n",
      "133/133 - 6s - loss: 0.0068 - acc: 0.9962 - val_loss: 1.0612 - val_acc: 0.7360\n",
      "Epoch 15/50\n",
      "133/133 - 6s - loss: 0.0065 - acc: 0.9972 - val_loss: 1.0896 - val_acc: 0.7371\n",
      "Epoch 16/50\n",
      "133/133 - 6s - loss: 0.0061 - acc: 0.9972 - val_loss: 1.1106 - val_acc: 0.7393\n",
      "Epoch 17/50\n",
      "133/133 - 6s - loss: 0.0061 - acc: 0.9972 - val_loss: 1.1302 - val_acc: 0.7404\n",
      "Epoch 18/50\n",
      "133/133 - 6s - loss: 0.0056 - acc: 0.9972 - val_loss: 1.1552 - val_acc: 0.7382\n",
      "Epoch 19/50\n",
      "133/133 - 6s - loss: 0.0058 - acc: 0.9962 - val_loss: 1.1733 - val_acc: 0.7393\n",
      "Epoch 20/50\n",
      "133/133 - 6s - loss: 0.0054 - acc: 0.9967 - val_loss: 1.1935 - val_acc: 0.7426\n",
      "Epoch 21/50\n",
      "133/133 - 6s - loss: 0.0054 - acc: 0.9962 - val_loss: 1.2124 - val_acc: 0.7393\n",
      "Epoch 22/50\n",
      "133/133 - 6s - loss: 0.0051 - acc: 0.9972 - val_loss: 1.2331 - val_acc: 0.7404\n",
      "Epoch 23/50\n",
      "133/133 - 6s - loss: 0.0052 - acc: 0.9972 - val_loss: 1.2477 - val_acc: 0.7404\n",
      "Epoch 24/50\n",
      "133/133 - 6s - loss: 0.0051 - acc: 0.9967 - val_loss: 1.2616 - val_acc: 0.7404\n",
      "Epoch 25/50\n",
      "133/133 - 6s - loss: 0.0053 - acc: 0.9972 - val_loss: 1.2857 - val_acc: 0.7316\n",
      "Epoch 26/50\n",
      "133/133 - 6s - loss: 0.0050 - acc: 0.9972 - val_loss: 1.3026 - val_acc: 0.7393\n",
      "Epoch 27/50\n",
      "133/133 - 8s - loss: 0.0050 - acc: 0.9967 - val_loss: 1.3225 - val_acc: 0.7305\n",
      "Epoch 28/50\n",
      "133/133 - 6s - loss: 0.0056 - acc: 0.9972 - val_loss: 1.3133 - val_acc: 0.7349\n",
      "Epoch 29/50\n",
      "133/133 - 6s - loss: 0.0052 - acc: 0.9967 - val_loss: 1.3328 - val_acc: 0.7360\n",
      "Epoch 30/50\n",
      "133/133 - 5s - loss: 0.0050 - acc: 0.9972 - val_loss: 1.3490 - val_acc: 0.7360\n",
      "Epoch 31/50\n",
      "133/133 - 4s - loss: 0.0050 - acc: 0.9962 - val_loss: 1.3595 - val_acc: 0.7371\n",
      "Epoch 32/50\n",
      "133/133 - 4s - loss: 0.0050 - acc: 0.9972 - val_loss: 1.3716 - val_acc: 0.7371\n",
      "Epoch 33/50\n",
      "133/133 - 4s - loss: 0.0050 - acc: 0.9967 - val_loss: 1.3858 - val_acc: 0.7360\n",
      "Epoch 34/50\n",
      "133/133 - 4s - loss: 0.0050 - acc: 0.9967 - val_loss: 1.3962 - val_acc: 0.7349\n",
      "Epoch 35/50\n",
      "133/133 - 4s - loss: 0.0050 - acc: 0.9967 - val_loss: 1.4066 - val_acc: 0.7393\n",
      "Epoch 36/50\n",
      "133/133 - 5s - loss: 0.0052 - acc: 0.9972 - val_loss: 1.4276 - val_acc: 0.7294\n",
      "Epoch 37/50\n",
      "133/133 - 4s - loss: 0.0050 - acc: 0.9967 - val_loss: 1.4296 - val_acc: 0.7349\n",
      "Epoch 38/50\n",
      "133/133 - 4s - loss: 0.0050 - acc: 0.9962 - val_loss: 1.4405 - val_acc: 0.7382\n",
      "Epoch 39/50\n",
      "133/133 - 4s - loss: 0.0050 - acc: 0.9972 - val_loss: 1.4592 - val_acc: 0.7371\n",
      "Epoch 40/50\n",
      "133/133 - 5s - loss: 0.0050 - acc: 0.9972 - val_loss: 1.4782 - val_acc: 0.7360\n",
      "Epoch 41/50\n",
      "133/133 - 4s - loss: 0.0050 - acc: 0.9967 - val_loss: 1.4913 - val_acc: 0.7338\n",
      "Epoch 42/50\n",
      "133/133 - 4s - loss: 0.0051 - acc: 0.9967 - val_loss: 1.4832 - val_acc: 0.7371\n",
      "Epoch 43/50\n",
      "133/133 - 4s - loss: 0.0051 - acc: 0.9972 - val_loss: 1.5018 - val_acc: 0.7360\n",
      "Epoch 44/50\n",
      "133/133 - 5s - loss: 0.0050 - acc: 0.9972 - val_loss: 1.5123 - val_acc: 0.7393\n",
      "Epoch 45/50\n",
      "133/133 - 4s - loss: 0.0050 - acc: 0.9972 - val_loss: 1.5307 - val_acc: 0.7349\n",
      "Epoch 46/50\n",
      "133/133 - 4s - loss: 0.0050 - acc: 0.9967 - val_loss: 1.5464 - val_acc: 0.7305\n",
      "Epoch 47/50\n",
      "133/133 - 4s - loss: 0.0049 - acc: 0.9972 - val_loss: 1.5631 - val_acc: 0.7316\n",
      "Epoch 48/50\n",
      "133/133 - 4s - loss: 0.0049 - acc: 0.9972 - val_loss: 1.5721 - val_acc: 0.7327\n",
      "Epoch 49/50\n",
      "133/133 - 5s - loss: 0.0049 - acc: 0.9972 - val_loss: 1.5854 - val_acc: 0.7349\n",
      "Epoch 50/50\n",
      "133/133 - 5s - loss: 0.0049 - acc: 0.9972 - val_loss: 1.5965 - val_acc: 0.7338\n"
     ]
    }
   ],
   "source": [
    "History=model.fit(x_train, y_train, epochs = 50, batch_size = 16, verbose=2, \n",
    "                           validation_data=(x_val,y_val), shuffle=True)"
   ]
  },
  {
   "cell_type": "markdown",
   "metadata": {},
   "source": [
    "## Humbjet dhe saktësia e modelit të trajnuar"
   ]
  },
  {
   "cell_type": "code",
   "execution_count": 19,
   "metadata": {},
   "outputs": [
    {
     "data": {
      "image/png": "[encoded data removed]",
      "text/plain": [
       "<Figure size 432x288 with 1 Axes>"
      ]
     },
     "metadata": {
      "needs_background": "light"
     },
     "output_type": "display_data"
    },
    {
     "data": {
      "image/png": "[encoded data removed]",
      "text/plain": [
       "<Figure size 432x288 with 1 Axes>"
      ]
     },
     "metadata": {
      "needs_background": "light"
     },
     "output_type": "display_data"
    }
   ],
   "source": [
    "plot_history(History)"
   ]
  },
  {
   "cell_type": "markdown",
   "metadata": {},
   "source": [
    "## Rezultatet e detajizuara të modelit të trajnuar"
   ]
  },
  {
   "cell_type": "code",
   "execution_count": 20,
   "metadata": {},
   "outputs": [
    {
     "name": "stdout",
     "output_type": "stream",
     "text": [
      "Accuracy : 0.7337733773377337\n",
      "\n",
      "Classification Report\n",
      "              precision    recall  f1-score   support\n",
      "\n",
      "           0     0.7851    0.8168    0.8007       595\n",
      "           1     0.6241    0.5764    0.5993       314\n",
      "\n",
      "    accuracy                         0.7338       909\n",
      "   macro avg     0.7046    0.6966    0.7000       909\n",
      "weighted avg     0.7295    0.7338    0.7311       909\n",
      "\n"
     ]
    }
   ],
   "source": [
    "full_multiclass_report(model, x_val, y_val, encoder.inverse_transform(np.arange(2)))"
   ]
  }
 ],
 "metadata": {
  "kernelspec": {
   "display_name": "Python 3",
   "language": "python",
   "name": "python3"
  },
  "language_info": {
   "codemirror_mode": {
    "name": "ipython",
    "version": 3
   },
   "file_extension": ".py",
   "mimetype": "text/x-python",
   "name": "python",
   "nbconvert_exporter": "python",
   "pygments_lexer": "ipython3",
   "version": "3.8.5"
  }
 },
 "nbformat": 4,
 "nbformat_minor": 4
}
